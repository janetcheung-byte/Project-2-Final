{
 "cells": [
  {
   "cell_type": "code",
   "execution_count": 1,
   "metadata": {},
   "outputs": [
    {
     "name": "stdout",
     "output_type": "stream",
     "text": "Connecting to keys.db\nRetrieved Keys\nConnection to keys.db closed\n"
    }
   ],
   "source": [
    "import pandas as pd\n",
    "from utils.usda import USDA\n",
    "# from sklearn.linear_model import LinearRegression,LogisticRegression\n",
    "import matplotlib.pyplot as plt\n",
    "import numpy as np\n",
    "# from sklearn.model_selection import train_test_split\n",
    "# from sklearn.metrics import classification_report\n"
   ]
  },
  {
   "cell_type": "code",
   "execution_count": 2,
   "metadata": {},
   "outputs": [
    {
     "name": "stdout",
     "output_type": "stream",
     "text": "Preparing dataframe for 2011\nPreparing dataframe for 2012\nPreparing dataframe for 2013\nPreparing dataframe for 2014\nPreparing dataframe for 2015\nPreparing dataframe for 2016\nPreparing dataframe for 2017\nPreparing dataframe for 2018\n"
    }
   ],
   "source": [
    "usda = USDA('IA','SOYBEANS')\n",
    "regression = usda.linear_regression()"
   ]
  },
  {
   "cell_type": "code",
   "execution_count": 3,
   "metadata": {},
   "outputs": [
    {
     "name": "stdout",
     "output_type": "stream",
     "text": "Preparing dataframe for 2011\nPreparing dataframe for 2012\nPreparing dataframe for 2013\nPreparing dataframe for 2014\nPreparing dataframe for 2015\nPreparing dataframe for 2016\nPreparing dataframe for 2017\nPreparing dataframe for 2018\nTraining Score0.814404432132964\nTesting Score0.768595041322314\n"
    }
   ],
   "source": [
    "classification = usda.classifier()"
   ]
  },
  {
   "cell_type": "code",
   "execution_count": 8,
   "metadata": {},
   "outputs": [
    {
     "data": {
      "text/html": "<div>\n<style scoped>\n    .dataframe tbody tr th:only-of-type {\n        vertical-align: middle;\n    }\n\n    .dataframe tbody tr th {\n        vertical-align: top;\n    }\n\n    .dataframe thead th {\n        text-align: right;\n    }\n</style>\n<table border=\"1\" class=\"dataframe\">\n  <thead>\n    <tr style=\"text-align: right;\">\n      <th></th>\n      <th>predictions</th>\n      <th>Actual</th>\n    </tr>\n  </thead>\n  <tbody>\n    <tr>\n      <th>0</th>\n      <td>low</td>\n      <td>high</td>\n    </tr>\n    <tr>\n      <th>1</th>\n      <td>low</td>\n      <td>low</td>\n    </tr>\n    <tr>\n      <th>2</th>\n      <td>high</td>\n      <td>high</td>\n    </tr>\n    <tr>\n      <th>3</th>\n      <td>low</td>\n      <td>low</td>\n    </tr>\n    <tr>\n      <th>4</th>\n      <td>high</td>\n      <td>high</td>\n    </tr>\n    <tr>\n      <th>...</th>\n      <td>...</td>\n      <td>...</td>\n    </tr>\n    <tr>\n      <th>116</th>\n      <td>high</td>\n      <td>high</td>\n    </tr>\n    <tr>\n      <th>117</th>\n      <td>low</td>\n      <td>high</td>\n    </tr>\n    <tr>\n      <th>118</th>\n      <td>low</td>\n      <td>low</td>\n    </tr>\n    <tr>\n      <th>119</th>\n      <td>low</td>\n      <td>low</td>\n    </tr>\n    <tr>\n      <th>120</th>\n      <td>low</td>\n      <td>low</td>\n    </tr>\n  </tbody>\n</table>\n<p>121 rows × 2 columns</p>\n</div>",
      "text/plain": "    predictions Actual\n0           low   high\n1           low    low\n2          high   high\n3           low    low\n4          high   high\n..          ...    ...\n116        high   high\n117         low   high\n118         low    low\n119         low    low\n120         low    low\n\n[121 rows x 2 columns]"
     },
     "execution_count": 8,
     "metadata": {},
     "output_type": "execute_result"
    }
   ],
   "source": [
    "usda.results"
   ]
  },
  {
   "cell_type": "code",
   "metadata": {},
   "outputs": [],
   "source": [
    "usda.results"
   ]
  },
  {
   "cell_type": "code",
   "metadata": {},
   "outputs": [],
   "source": [
    "actual = regression[2]\n",
    "predicted = regression[1]"
   ]
  },
  {
   "cell_type": "code",
   "metadata": {},
   "outputs": [],
   "source": [
    "plt.scatter(actual['areaharvested'],actual['production'])\n",
    "plt.plot(actual['areaharvested'],predicted,color='red')"
   ]
  },
  {
   "cell_type": "markdown",
   "metadata": {},
   "outputs": [],
   "source": [
    "## Decisioning Risk"
   ]
  },
  {
   "cell_type": "code",
   "metadata": {},
   "outputs": [],
   "source": [
    "\n",
    "features = usda.features()\n",
    "#Client Tolerance Threshold\n",
    "features['lossrisk'] = np.where(features['total_events']>=8,'high','low')\n",
    "features.drop(columns=['countyname','state_name','crop','year','statenbr','statecd'],inplace=True)\n",
    "features.dropna(inplace=True)\n",
    "\n",
    "#Define Variables\n",
    "y = features['lossrisk']\n",
    "X = features.drop(columns='lossrisk')"
   ]
  },
  {
   "cell_type": "code",
   "metadata": {},
   "outputs": [],
   "source": [
    "#Train Test Split\n",
    "X_train,X_test,y_train,y_test = train_test_split(X,\n",
    "                                                 y,\n",
    "                                                 random_state=1,\n",
    "                                                 stratify=y)\n",
    "\n",
    "\n",
    "classifier = LogisticRegression(solver='lbfgs',random_state=1)\n",
    "classifier"
   ]
  },
  {
   "cell_type": "code",
   "metadata": {},
   "outputs": [],
   "source": [
    "#Train using the training data\n",
    "classifier.fit(X_train,y_train)\n",
    "print(f'Training Score{classifier.score(X_train,y_train)}')\n",
    "print(f'Testing Score{classifier.score(X_test,y_test)}')"
   ]
  },
  {
   "cell_type": "code",
   "metadata": {},
   "outputs": [],
   "source": [
    "predictions = classifier.predict(X_test)\n",
    "results = pd.DataFrame({'predictions':predictions,'Actual':y_test}).reset_index(drop=True)\n",
    "report = classification_report(y_test,predictions)\n",
    "print(report)"
   ]
  },
  {
   "cell_type": "code",
   "metadata": {},
   "outputs": [],
   "source": []
  }
 ],
 "metadata": {
  "file_extension": ".py",
  "kernelspec": {
   "display_name": "Python 3",
   "language": "python",
   "name": "python3"
  },
  "language_info": {
   "codemirror_mode": {
    "name": "ipython",
    "version": 3
   },
   "file_extension": ".py",
   "mimetype": "text/x-python",
   "name": "python",
   "nbconvert_exporter": "python",
   "pygments_lexer": "ipython3",
   "version": "3.7.6"
  },
  "mimetype": "text/x-python",
  "name": "python",
  "npconvert_exporter": "python",
  "pygments_lexer": "ipython3",
  "version": 3
 },
 "nbformat": 4,
 "nbformat_minor": 4
}