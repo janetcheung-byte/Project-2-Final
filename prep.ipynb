{
 "cells": [
  {
   "cell_type": "code",
   "execution_count": 7,
   "metadata": {},
   "outputs": [],
   "source": [
    "import pandas as pd\n",
    "from utils.usda import USDA\n",
    "from sklearn.linear_model import LinearRegression"
   ]
  },
  {
   "cell_type": "code",
   "execution_count": 5,
   "metadata": {},
   "outputs": [
    {
     "name": "stdout",
     "output_type": "stream",
     "text": "Passing key to query params..\nConnecting to http://quickstats.nass.usda.gov/api/api_GET/?\nPreparing dataframe\nSuccess!\nPassing key to query params..\nConnecting to http://quickstats.nass.usda.gov/api/api_GET/?\nPreparing dataframe\nSuccess!\nPassing key to query params..\nConnecting to http://quickstats.nass.usda.gov/api/api_GET/?\nPreparing dataframe\nSuccess!\nPassing key to query params..\nConnecting to http://quickstats.nass.usda.gov/api/api_GET/?\nPreparing dataframe\nSuccess!\nPassing key to query params..\nConnecting to http://quickstats.nass.usda.gov/api/api_GET/?\nPreparing dataframe\nSuccess!\n"
    }
   ],
   "source": [
    "usda = USDA('IA','SOYBEANS')\n",
    "ftr = usda.features()"
   ]
  },
  {
   "cell_type": "code",
   "execution_count": 6,
   "metadata": {},
   "outputs": [
    {
     "data": {
      "text/html": "<div>\n<style scoped>\n    .dataframe tbody tr th:only-of-type {\n        vertical-align: middle;\n    }\n\n    .dataframe tbody tr th {\n        vertical-align: top;\n    }\n\n    .dataframe thead th {\n        text-align: right;\n    }\n</style>\n<table border=\"1\" class=\"dataframe\">\n  <thead>\n    <tr style=\"text-align: right;\">\n      <th></th>\n      <th>countycd</th>\n      <th>countyname</th>\n      <th>statenbr</th>\n      <th>state_name</th>\n      <th>statecd</th>\n      <th>crop</th>\n      <th>state_fips_code</th>\n      <th>year</th>\n      <th>areaharvested</th>\n      <th>areaplanted</th>\n      <th>...</th>\n      <th>yield</th>\n      <th>totalacreloss</th>\n      <th>total_events</th>\n      <th>imdemnityamt</th>\n      <th>percipavg</th>\n      <th>droughtavg</th>\n      <th>tempavg</th>\n      <th>shortdroughtavg</th>\n      <th>mintempavg</th>\n      <th>maxtempavg</th>\n    </tr>\n  </thead>\n  <tbody>\n    <tr>\n      <th>0</th>\n      <td>21</td>\n      <td>BUENA VISTA</td>\n      <td>19</td>\n      <td>IOWA</td>\n      <td>IA</td>\n      <td>SOYBEANS</td>\n      <td>19</td>\n      <td>2014</td>\n      <td>137800</td>\n      <td>139000</td>\n      <td>...</td>\n      <td>49.1</td>\n      <td>51455.0</td>\n      <td>9.0</td>\n      <td>3135230.0</td>\n      <td>3.22</td>\n      <td>1.18</td>\n      <td>45.46</td>\n      <td>1.03</td>\n      <td>35.20</td>\n      <td>55.68</td>\n    </tr>\n    <tr>\n      <th>1</th>\n      <td>35</td>\n      <td>CHEROKEE</td>\n      <td>19</td>\n      <td>IOWA</td>\n      <td>IA</td>\n      <td>SOYBEANS</td>\n      <td>19</td>\n      <td>2014</td>\n      <td>132600</td>\n      <td>135000</td>\n      <td>...</td>\n      <td>55.8</td>\n      <td>45164.0</td>\n      <td>7.0</td>\n      <td>2558004.0</td>\n      <td>3.22</td>\n      <td>1.18</td>\n      <td>45.46</td>\n      <td>1.03</td>\n      <td>35.20</td>\n      <td>55.68</td>\n    </tr>\n    <tr>\n      <th>2</th>\n      <td>41</td>\n      <td>CLAY</td>\n      <td>19</td>\n      <td>IOWA</td>\n      <td>IA</td>\n      <td>SOYBEANS</td>\n      <td>19</td>\n      <td>2014</td>\n      <td>126500</td>\n      <td>127500</td>\n      <td>...</td>\n      <td>47.8</td>\n      <td>56757.0</td>\n      <td>8.0</td>\n      <td>4465994.0</td>\n      <td>3.22</td>\n      <td>1.18</td>\n      <td>45.46</td>\n      <td>1.03</td>\n      <td>35.20</td>\n      <td>55.68</td>\n    </tr>\n    <tr>\n      <th>3</th>\n      <td>59</td>\n      <td>DICKINSON</td>\n      <td>19</td>\n      <td>IOWA</td>\n      <td>IA</td>\n      <td>SOYBEANS</td>\n      <td>19</td>\n      <td>2014</td>\n      <td>79600</td>\n      <td>80100</td>\n      <td>...</td>\n      <td>44</td>\n      <td>44702.0</td>\n      <td>7.0</td>\n      <td>4194847.0</td>\n      <td>3.22</td>\n      <td>1.18</td>\n      <td>45.46</td>\n      <td>1.03</td>\n      <td>35.20</td>\n      <td>55.68</td>\n    </tr>\n    <tr>\n      <th>4</th>\n      <td>63</td>\n      <td>EMMET</td>\n      <td>19</td>\n      <td>IOWA</td>\n      <td>IA</td>\n      <td>SOYBEANS</td>\n      <td>19</td>\n      <td>2014</td>\n      <td>88400</td>\n      <td>88900</td>\n      <td>...</td>\n      <td>42.3</td>\n      <td>73231.0</td>\n      <td>11.0</td>\n      <td>7027616.0</td>\n      <td>3.22</td>\n      <td>1.18</td>\n      <td>45.46</td>\n      <td>1.03</td>\n      <td>35.20</td>\n      <td>55.68</td>\n    </tr>\n    <tr>\n      <th>...</th>\n      <td>...</td>\n      <td>...</td>\n      <td>...</td>\n      <td>...</td>\n      <td>...</td>\n      <td>...</td>\n      <td>...</td>\n      <td>...</td>\n      <td>...</td>\n      <td>...</td>\n      <td>...</td>\n      <td>...</td>\n      <td>...</td>\n      <td>...</td>\n      <td>...</td>\n      <td>...</td>\n      <td>...</td>\n      <td>...</td>\n      <td>...</td>\n      <td>...</td>\n      <td>...</td>\n    </tr>\n    <tr>\n      <th>485</th>\n      <td>115</td>\n      <td>LOUISA</td>\n      <td>19</td>\n      <td>IOWA</td>\n      <td>IA</td>\n      <td>SOYBEANS</td>\n      <td>19</td>\n      <td>2018</td>\n      <td>70700</td>\n      <td>71000</td>\n      <td>...</td>\n      <td>59.1</td>\n      <td>330.0</td>\n      <td>2.0</td>\n      <td>30062.0</td>\n      <td>3.76</td>\n      <td>2.52</td>\n      <td>47.49</td>\n      <td>1.81</td>\n      <td>37.78</td>\n      <td>57.18</td>\n    </tr>\n    <tr>\n      <th>486</th>\n      <td>123</td>\n      <td>MAHASKA</td>\n      <td>19</td>\n      <td>IOWA</td>\n      <td>IA</td>\n      <td>SOYBEANS</td>\n      <td>19</td>\n      <td>2018</td>\n      <td>99100</td>\n      <td>103000</td>\n      <td>...</td>\n      <td>60.8</td>\n      <td>449.0</td>\n      <td>3.0</td>\n      <td>69242.0</td>\n      <td>3.76</td>\n      <td>2.52</td>\n      <td>47.49</td>\n      <td>1.81</td>\n      <td>37.78</td>\n      <td>57.18</td>\n    </tr>\n    <tr>\n      <th>487</th>\n      <td>177</td>\n      <td>VAN BUREN</td>\n      <td>19</td>\n      <td>IOWA</td>\n      <td>IA</td>\n      <td>SOYBEANS</td>\n      <td>19</td>\n      <td>2018</td>\n      <td>50100</td>\n      <td>50400</td>\n      <td>...</td>\n      <td>55.1</td>\n      <td>259.0</td>\n      <td>2.0</td>\n      <td>9463.0</td>\n      <td>3.76</td>\n      <td>2.52</td>\n      <td>47.49</td>\n      <td>1.81</td>\n      <td>37.78</td>\n      <td>57.18</td>\n    </tr>\n    <tr>\n      <th>488</th>\n      <td>179</td>\n      <td>WAPELLO</td>\n      <td>19</td>\n      <td>IOWA</td>\n      <td>IA</td>\n      <td>SOYBEANS</td>\n      <td>19</td>\n      <td>2018</td>\n      <td>54800</td>\n      <td>55000</td>\n      <td>...</td>\n      <td>61.2</td>\n      <td>157.0</td>\n      <td>2.0</td>\n      <td>4806.0</td>\n      <td>3.76</td>\n      <td>2.52</td>\n      <td>47.49</td>\n      <td>1.81</td>\n      <td>37.78</td>\n      <td>57.18</td>\n    </tr>\n    <tr>\n      <th>489</th>\n      <td>183</td>\n      <td>WASHINGTON</td>\n      <td>19</td>\n      <td>IOWA</td>\n      <td>IA</td>\n      <td>SOYBEANS</td>\n      <td>19</td>\n      <td>2018</td>\n      <td>91300</td>\n      <td>94100</td>\n      <td>...</td>\n      <td>62.6</td>\n      <td>728.0</td>\n      <td>3.0</td>\n      <td>23276.0</td>\n      <td>3.76</td>\n      <td>2.52</td>\n      <td>47.49</td>\n      <td>1.81</td>\n      <td>37.78</td>\n      <td>57.18</td>\n    </tr>\n  </tbody>\n</table>\n<p>490 rows × 21 columns</p>\n</div>",
      "text/plain": "     countycd   countyname statenbr state_name statecd      crop  \\\n0          21  BUENA VISTA       19       IOWA      IA  SOYBEANS   \n1          35     CHEROKEE       19       IOWA      IA  SOYBEANS   \n2          41         CLAY       19       IOWA      IA  SOYBEANS   \n3          59    DICKINSON       19       IOWA      IA  SOYBEANS   \n4          63        EMMET       19       IOWA      IA  SOYBEANS   \n..        ...          ...      ...        ...     ...       ...   \n485       115       LOUISA       19       IOWA      IA  SOYBEANS   \n486       123      MAHASKA       19       IOWA      IA  SOYBEANS   \n487       177    VAN BUREN       19       IOWA      IA  SOYBEANS   \n488       179      WAPELLO       19       IOWA      IA  SOYBEANS   \n489       183   WASHINGTON       19       IOWA      IA  SOYBEANS   \n\n    state_fips_code  year  areaharvested  areaplanted  ...  yield  \\\n0                19  2014         137800       139000  ...   49.1   \n1                19  2014         132600       135000  ...   55.8   \n2                19  2014         126500       127500  ...   47.8   \n3                19  2014          79600        80100  ...     44   \n4                19  2014          88400        88900  ...   42.3   \n..              ...   ...            ...          ...  ...    ...   \n485              19  2018          70700        71000  ...   59.1   \n486              19  2018          99100       103000  ...   60.8   \n487              19  2018          50100        50400  ...   55.1   \n488              19  2018          54800        55000  ...   61.2   \n489              19  2018          91300        94100  ...   62.6   \n\n    totalacreloss  total_events  imdemnityamt  percipavg  droughtavg  tempavg  \\\n0         51455.0           9.0     3135230.0       3.22        1.18    45.46   \n1         45164.0           7.0     2558004.0       3.22        1.18    45.46   \n2         56757.0           8.0     4465994.0       3.22        1.18    45.46   \n3         44702.0           7.0     4194847.0       3.22        1.18    45.46   \n4         73231.0          11.0     7027616.0       3.22        1.18    45.46   \n..            ...           ...           ...        ...         ...      ...   \n485         330.0           2.0       30062.0       3.76        2.52    47.49   \n486         449.0           3.0       69242.0       3.76        2.52    47.49   \n487         259.0           2.0        9463.0       3.76        2.52    47.49   \n488         157.0           2.0        4806.0       3.76        2.52    47.49   \n489         728.0           3.0       23276.0       3.76        2.52    47.49   \n\n     shortdroughtavg  mintempavg  maxtempavg  \n0               1.03       35.20       55.68  \n1               1.03       35.20       55.68  \n2               1.03       35.20       55.68  \n3               1.03       35.20       55.68  \n4               1.03       35.20       55.68  \n..               ...         ...         ...  \n485             1.81       37.78       57.18  \n486             1.81       37.78       57.18  \n487             1.81       37.78       57.18  \n488             1.81       37.78       57.18  \n489             1.81       37.78       57.18  \n\n[490 rows x 21 columns]"
     },
     "execution_count": 6,
     "metadata": {},
     "output_type": "execute_result"
    }
   ],
   "source": []
  },
  {
   "cell_type": "code",
   "metadata": {},
   "outputs": [],
   "source": []
  }
 ],
 "metadata": {
  "file_extension": ".py",
  "kernelspec": {
   "display_name": "Python 3",
   "language": "python",
   "name": "python3"
  },
  "language_info": {
   "codemirror_mode": {
    "name": "ipython",
    "version": 3
   },
   "file_extension": ".py",
   "mimetype": "text/x-python",
   "name": "python",
   "nbconvert_exporter": "python",
   "pygments_lexer": "ipython3",
   "version": "3.7.6"
  },
  "mimetype": "text/x-python",
  "name": "python",
  "npconvert_exporter": "python",
  "pygments_lexer": "ipython3",
  "version": 3
 },
 "nbformat": 4,
 "nbformat_minor": 4
}