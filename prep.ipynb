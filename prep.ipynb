{
 "cells": [
  {
   "cell_type": "code",
   "execution_count": 1,
   "metadata": {},
   "outputs": [
    {
     "name": "stdout",
     "output_type": "stream",
     "text": "Connecting to keys.db\nRetrieved Keys\nConnection to keys.db closed\n"
    }
   ],
   "source": [
    "import pandas as pd\n",
    "from utils.usda import USDA"
   ]
  },
  {
   "cell_type": "code",
   "execution_count": 2,
   "metadata": {},
   "outputs": [
    {
     "name": "stdout",
     "output_type": "stream",
     "text": "Passing key to query params..\nConnecting to http://quickstats.nass.usda.gov/api/api_GET/?\nPreparing dataframe\nSuccess!\n"
    }
   ],
   "source": [
    "usda = USDA('IA','SOYBEANS',2018)\n",
    "sur = usda.crop_survey()"
   ]
  },
  {
   "cell_type": "code",
   "execution_count": 6,
   "metadata": {},
   "outputs": [
    {
     "data": {
      "text/html": "<div>\n<style scoped>\n    .dataframe tbody tr th:only-of-type {\n        vertical-align: middle;\n    }\n\n    .dataframe tbody tr th {\n        vertical-align: top;\n    }\n\n    .dataframe thead th {\n        text-align: right;\n    }\n</style>\n<table border=\"1\" class=\"dataframe\">\n  <thead>\n    <tr style=\"text-align: right;\">\n      <th></th>\n      <th>statecd</th>\n      <th>countycd</th>\n      <th>countyname</th>\n      <th>year</th>\n      <th>statenbr</th>\n      <th>crop</th>\n      <th>imdemnityamt</th>\n      <th>totalacreloss</th>\n      <th>total_events</th>\n      <th>lossid</th>\n      <th>cropcode</th>\n    </tr>\n  </thead>\n  <tbody>\n    <tr>\n      <th>1</th>\n      <td>IA</td>\n      <td>1</td>\n      <td>Adair</td>\n      <td>2014</td>\n      <td>19</td>\n      <td>SOYBEANS</td>\n      <td>3157741</td>\n      <td>33918</td>\n      <td>10</td>\n      <td>20141911</td>\n      <td>1</td>\n    </tr>\n    <tr>\n      <th>3</th>\n      <td>IA</td>\n      <td>1</td>\n      <td>Adair</td>\n      <td>2015</td>\n      <td>19</td>\n      <td>SOYBEANS</td>\n      <td>318279</td>\n      <td>5216</td>\n      <td>5</td>\n      <td>20151911</td>\n      <td>1</td>\n    </tr>\n    <tr>\n      <th>5</th>\n      <td>IA</td>\n      <td>1</td>\n      <td>Adair</td>\n      <td>2016</td>\n      <td>19</td>\n      <td>SOYBEANS</td>\n      <td>60983</td>\n      <td>1147</td>\n      <td>3</td>\n      <td>20161911</td>\n      <td>1</td>\n    </tr>\n    <tr>\n      <th>7</th>\n      <td>IA</td>\n      <td>1</td>\n      <td>Adair</td>\n      <td>2017</td>\n      <td>19</td>\n      <td>SOYBEANS</td>\n      <td>996052</td>\n      <td>11977</td>\n      <td>5</td>\n      <td>20171911</td>\n      <td>1</td>\n    </tr>\n    <tr>\n      <th>9</th>\n      <td>IA</td>\n      <td>1</td>\n      <td>Adair</td>\n      <td>2018</td>\n      <td>19</td>\n      <td>SOYBEANS</td>\n      <td>12680</td>\n      <td>416</td>\n      <td>4</td>\n      <td>20181911</td>\n      <td>1</td>\n    </tr>\n    <tr>\n      <th>...</th>\n      <td>...</td>\n      <td>...</td>\n      <td>...</td>\n      <td>...</td>\n      <td>...</td>\n      <td>...</td>\n      <td>...</td>\n      <td>...</td>\n      <td>...</td>\n      <td>...</td>\n      <td>...</td>\n    </tr>\n    <tr>\n      <th>960</th>\n      <td>IA</td>\n      <td>197</td>\n      <td>Wright</td>\n      <td>2014</td>\n      <td>19</td>\n      <td>SOYBEANS</td>\n      <td>9192768</td>\n      <td>94068</td>\n      <td>9</td>\n      <td>2014191971</td>\n      <td>1</td>\n    </tr>\n    <tr>\n      <th>962</th>\n      <td>IA</td>\n      <td>197</td>\n      <td>Wright</td>\n      <td>2015</td>\n      <td>19</td>\n      <td>SOYBEANS</td>\n      <td>152558</td>\n      <td>1889</td>\n      <td>4</td>\n      <td>2015191971</td>\n      <td>1</td>\n    </tr>\n    <tr>\n      <th>964</th>\n      <td>IA</td>\n      <td>197</td>\n      <td>Wright</td>\n      <td>2016</td>\n      <td>19</td>\n      <td>SOYBEANS</td>\n      <td>134109</td>\n      <td>2099</td>\n      <td>6</td>\n      <td>2016191971</td>\n      <td>1</td>\n    </tr>\n    <tr>\n      <th>966</th>\n      <td>IA</td>\n      <td>197</td>\n      <td>Wright</td>\n      <td>2017</td>\n      <td>19</td>\n      <td>SOYBEANS</td>\n      <td>273819</td>\n      <td>4707</td>\n      <td>5</td>\n      <td>2017191971</td>\n      <td>1</td>\n    </tr>\n    <tr>\n      <th>968</th>\n      <td>IA</td>\n      <td>197</td>\n      <td>Wright</td>\n      <td>2018</td>\n      <td>19</td>\n      <td>SOYBEANS</td>\n      <td>28189</td>\n      <td>924</td>\n      <td>2</td>\n      <td>2018191971</td>\n      <td>1</td>\n    </tr>\n  </tbody>\n</table>\n<p>490 rows × 11 columns</p>\n</div>",
      "text/plain": "    statecd  countycd countyname  year  statenbr      crop  imdemnityamt  \\\n1        IA         1      Adair  2014        19  SOYBEANS       3157741   \n3        IA         1      Adair  2015        19  SOYBEANS        318279   \n5        IA         1      Adair  2016        19  SOYBEANS         60983   \n7        IA         1      Adair  2017        19  SOYBEANS        996052   \n9        IA         1      Adair  2018        19  SOYBEANS         12680   \n..      ...       ...        ...   ...       ...       ...           ...   \n960      IA       197     Wright  2014        19  SOYBEANS       9192768   \n962      IA       197     Wright  2015        19  SOYBEANS        152558   \n964      IA       197     Wright  2016        19  SOYBEANS        134109   \n966      IA       197     Wright  2017        19  SOYBEANS        273819   \n968      IA       197     Wright  2018        19  SOYBEANS         28189   \n\n     totalacreloss  total_events      lossid  cropcode  \n1            33918            10    20141911         1  \n3             5216             5    20151911         1  \n5             1147             3    20161911         1  \n7            11977             5    20171911         1  \n9              416             4    20181911         1  \n..             ...           ...         ...       ...  \n960          94068             9  2014191971         1  \n962           1889             4  2015191971         1  \n964           2099             6  2016191971         1  \n966           4707             5  2017191971         1  \n968            924             2  2018191971         1  \n\n[490 rows x 11 columns]"
     },
     "execution_count": 6,
     "metadata": {},
     "output_type": "execute_result"
    }
   ],
   "source": [
    "usda.loss_hist()"
   ]
  },
  {
   "cell_type": "code",
   "metadata": {},
   "outputs": [],
   "source": []
  }
 ],
 "metadata": {
  "file_extension": ".py",
  "kernelspec": {
   "display_name": "Python 3",
   "language": "python",
   "name": "python3"
  },
  "language_info": {
   "codemirror_mode": {
    "name": "ipython",
    "version": 3
   },
   "file_extension": ".py",
   "mimetype": "text/x-python",
   "name": "python",
   "nbconvert_exporter": "python",
   "pygments_lexer": "ipython3",
   "version": "3.7.6"
  },
  "mimetype": "text/x-python",
  "name": "python",
  "npconvert_exporter": "python",
  "pygments_lexer": "ipython3",
  "version": 3
 },
 "nbformat": 4,
 "nbformat_minor": 4
}