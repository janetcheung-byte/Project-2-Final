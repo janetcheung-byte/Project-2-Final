{
 "cells": [
  {
   "cell_type": "code",
   "execution_count": 4,
   "metadata": {},
   "outputs": [],
   "source": [
    "import pandas as pd\n",
    "from pathlib import Path\n",
    "import matplotlib.pyplot as plt\n",
    "from sklearn.linear_model import LinearRegression\n",
    "%matplotlib inline"
   ]
  },
  {
   "cell_type": "code",
   "execution_count": 5,
   "metadata": {},
   "outputs": [
    {
     "data": {
      "text/html": [
       "<div>\n",
       "<style scoped>\n",
       "    .dataframe tbody tr th:only-of-type {\n",
       "        vertical-align: middle;\n",
       "    }\n",
       "\n",
       "    .dataframe tbody tr th {\n",
       "        vertical-align: top;\n",
       "    }\n",
       "\n",
       "    .dataframe thead th {\n",
       "        text-align: right;\n",
       "    }\n",
       "</style>\n",
       "<table border=\"1\" class=\"dataframe\">\n",
       "  <thead>\n",
       "    <tr style=\"text-align: right;\">\n",
       "      <th></th>\n",
       "      <th>Unnamed: 0</th>\n",
       "      <th>county_code</th>\n",
       "      <th>county_name</th>\n",
       "      <th>state_ansi</th>\n",
       "      <th>state_name</th>\n",
       "      <th>state_alpha</th>\n",
       "      <th>commodity_desc</th>\n",
       "      <th>state_fips_code</th>\n",
       "      <th>year</th>\n",
       "      <th>area_harvested</th>\n",
       "      <th>...</th>\n",
       "      <th>total_imdemnity</th>\n",
       "      <th>total_events</th>\n",
       "      <th>PCP</th>\n",
       "      <th>TAVG</th>\n",
       "      <th>PDSI</th>\n",
       "      <th>ZNDX</th>\n",
       "      <th>PMDI</th>\n",
       "      <th>TMIN</th>\n",
       "      <th>TMAX</th>\n",
       "      <th>Month</th>\n",
       "    </tr>\n",
       "  </thead>\n",
       "  <tbody>\n",
       "    <tr>\n",
       "      <th>0</th>\n",
       "      <td>0</td>\n",
       "      <td>21</td>\n",
       "      <td>BUENA VISTA</td>\n",
       "      <td>19</td>\n",
       "      <td>IOWA</td>\n",
       "      <td>IA</td>\n",
       "      <td>SOYBEANS</td>\n",
       "      <td>19</td>\n",
       "      <td>2018</td>\n",
       "      <td>143300</td>\n",
       "      <td>...</td>\n",
       "      <td>87432</td>\n",
       "      <td>15</td>\n",
       "      <td>3.756667</td>\n",
       "      <td>47.491667</td>\n",
       "      <td>2.521667</td>\n",
       "      <td>1.810833</td>\n",
       "      <td>2.03</td>\n",
       "      <td>37.783333</td>\n",
       "      <td>57.175</td>\n",
       "      <td>6.5</td>\n",
       "    </tr>\n",
       "    <tr>\n",
       "      <th>1</th>\n",
       "      <td>1</td>\n",
       "      <td>35</td>\n",
       "      <td>CHEROKEE</td>\n",
       "      <td>19</td>\n",
       "      <td>IOWA</td>\n",
       "      <td>IA</td>\n",
       "      <td>SOYBEANS</td>\n",
       "      <td>19</td>\n",
       "      <td>2018</td>\n",
       "      <td>133800</td>\n",
       "      <td>...</td>\n",
       "      <td>26361</td>\n",
       "      <td>9</td>\n",
       "      <td>3.756667</td>\n",
       "      <td>47.491667</td>\n",
       "      <td>2.521667</td>\n",
       "      <td>1.810833</td>\n",
       "      <td>2.03</td>\n",
       "      <td>37.783333</td>\n",
       "      <td>57.175</td>\n",
       "      <td>6.5</td>\n",
       "    </tr>\n",
       "    <tr>\n",
       "      <th>2</th>\n",
       "      <td>2</td>\n",
       "      <td>41</td>\n",
       "      <td>CLAY</td>\n",
       "      <td>19</td>\n",
       "      <td>IOWA</td>\n",
       "      <td>IA</td>\n",
       "      <td>SOYBEANS</td>\n",
       "      <td>19</td>\n",
       "      <td>2018</td>\n",
       "      <td>128600</td>\n",
       "      <td>...</td>\n",
       "      <td>261792</td>\n",
       "      <td>24</td>\n",
       "      <td>3.756667</td>\n",
       "      <td>47.491667</td>\n",
       "      <td>2.521667</td>\n",
       "      <td>1.810833</td>\n",
       "      <td>2.03</td>\n",
       "      <td>37.783333</td>\n",
       "      <td>57.175</td>\n",
       "      <td>6.5</td>\n",
       "    </tr>\n",
       "    <tr>\n",
       "      <th>3</th>\n",
       "      <td>3</td>\n",
       "      <td>59</td>\n",
       "      <td>DICKINSON</td>\n",
       "      <td>19</td>\n",
       "      <td>IOWA</td>\n",
       "      <td>IA</td>\n",
       "      <td>SOYBEANS</td>\n",
       "      <td>19</td>\n",
       "      <td>2018</td>\n",
       "      <td>85800</td>\n",
       "      <td>...</td>\n",
       "      <td>112899</td>\n",
       "      <td>9</td>\n",
       "      <td>3.756667</td>\n",
       "      <td>47.491667</td>\n",
       "      <td>2.521667</td>\n",
       "      <td>1.810833</td>\n",
       "      <td>2.03</td>\n",
       "      <td>37.783333</td>\n",
       "      <td>57.175</td>\n",
       "      <td>6.5</td>\n",
       "    </tr>\n",
       "    <tr>\n",
       "      <th>4</th>\n",
       "      <td>4</td>\n",
       "      <td>63</td>\n",
       "      <td>EMMET</td>\n",
       "      <td>19</td>\n",
       "      <td>IOWA</td>\n",
       "      <td>IA</td>\n",
       "      <td>SOYBEANS</td>\n",
       "      <td>19</td>\n",
       "      <td>2018</td>\n",
       "      <td>88800</td>\n",
       "      <td>...</td>\n",
       "      <td>345711</td>\n",
       "      <td>33</td>\n",
       "      <td>3.756667</td>\n",
       "      <td>47.491667</td>\n",
       "      <td>2.521667</td>\n",
       "      <td>1.810833</td>\n",
       "      <td>2.03</td>\n",
       "      <td>37.783333</td>\n",
       "      <td>57.175</td>\n",
       "      <td>6.5</td>\n",
       "    </tr>\n",
       "  </tbody>\n",
       "</table>\n",
       "<p>5 rows × 24 columns</p>\n",
       "</div>"
      ],
      "text/plain": [
       "   Unnamed: 0  county_code  county_name  state_ansi state_name state_alpha  \\\n",
       "0           0           21  BUENA VISTA          19       IOWA          IA   \n",
       "1           1           35     CHEROKEE          19       IOWA          IA   \n",
       "2           2           41         CLAY          19       IOWA          IA   \n",
       "3           3           59    DICKINSON          19       IOWA          IA   \n",
       "4           4           63        EMMET          19       IOWA          IA   \n",
       "\n",
       "  commodity_desc  state_fips_code  year  area_harvested  ...  total_imdemnity  \\\n",
       "0       SOYBEANS               19  2018          143300  ...            87432   \n",
       "1       SOYBEANS               19  2018          133800  ...            26361   \n",
       "2       SOYBEANS               19  2018          128600  ...           261792   \n",
       "3       SOYBEANS               19  2018           85800  ...           112899   \n",
       "4       SOYBEANS               19  2018           88800  ...           345711   \n",
       "\n",
       "   total_events       PCP       TAVG      PDSI      ZNDX  PMDI       TMIN  \\\n",
       "0            15  3.756667  47.491667  2.521667  1.810833  2.03  37.783333   \n",
       "1             9  3.756667  47.491667  2.521667  1.810833  2.03  37.783333   \n",
       "2            24  3.756667  47.491667  2.521667  1.810833  2.03  37.783333   \n",
       "3             9  3.756667  47.491667  2.521667  1.810833  2.03  37.783333   \n",
       "4            33  3.756667  47.491667  2.521667  1.810833  2.03  37.783333   \n",
       "\n",
       "     TMAX  Month  \n",
       "0  57.175    6.5  \n",
       "1  57.175    6.5  \n",
       "2  57.175    6.5  \n",
       "3  57.175    6.5  \n",
       "4  57.175    6.5  \n",
       "\n",
       "[5 rows x 24 columns]"
      ]
     },
     "execution_count": 5,
     "metadata": {},
     "output_type": "execute_result"
    }
   ],
   "source": [
    "# Loading data\n",
    "file_path = Path(\"../Resources/final_features_4.csv\")\n",
    "soy = pd.read_csv(file_path)\n",
    "soy.head()"
   ]
  },
  {
   "cell_type": "code",
   "execution_count": 6,
   "metadata": {},
   "outputs": [
    {
     "data": {
      "text/plain": [
       "Index(['Unnamed: 0', 'county_code', 'county_name', 'state_ansi', 'state_name',\n",
       "       'state_alpha', 'commodity_desc', 'state_fips_code', 'year',\n",
       "       'area_harvested', 'area_planted', 'production', 'YIELD', 'total_acres',\n",
       "       'total_imdemnity', 'total_events', 'PCP', 'TAVG', 'PDSI', 'ZNDX',\n",
       "       'PMDI', 'TMIN', 'TMAX', 'Month'],\n",
       "      dtype='object')"
      ]
     },
     "execution_count": 6,
     "metadata": {},
     "output_type": "execute_result"
    }
   ],
   "source": [
    "soy.columns"
   ]
  },
  {
   "cell_type": "code",
   "execution_count": 7,
   "metadata": {},
   "outputs": [
    {
     "data": {
      "text/html": [
       "<div>\n",
       "<style scoped>\n",
       "    .dataframe tbody tr th:only-of-type {\n",
       "        vertical-align: middle;\n",
       "    }\n",
       "\n",
       "    .dataframe tbody tr th {\n",
       "        vertical-align: top;\n",
       "    }\n",
       "\n",
       "    .dataframe thead th {\n",
       "        text-align: right;\n",
       "    }\n",
       "</style>\n",
       "<table border=\"1\" class=\"dataframe\">\n",
       "  <thead>\n",
       "    <tr style=\"text-align: right;\">\n",
       "      <th></th>\n",
       "      <th>area_harvested</th>\n",
       "      <th>production</th>\n",
       "    </tr>\n",
       "  </thead>\n",
       "  <tbody>\n",
       "    <tr>\n",
       "      <th>0</th>\n",
       "      <td>143300</td>\n",
       "      <td>8099000</td>\n",
       "    </tr>\n",
       "    <tr>\n",
       "      <th>1</th>\n",
       "      <td>133800</td>\n",
       "      <td>8767000</td>\n",
       "    </tr>\n",
       "    <tr>\n",
       "      <th>2</th>\n",
       "      <td>128600</td>\n",
       "      <td>6889000</td>\n",
       "    </tr>\n",
       "    <tr>\n",
       "      <th>3</th>\n",
       "      <td>85800</td>\n",
       "      <td>4350000</td>\n",
       "    </tr>\n",
       "    <tr>\n",
       "      <th>4</th>\n",
       "      <td>88800</td>\n",
       "      <td>4222000</td>\n",
       "    </tr>\n",
       "  </tbody>\n",
       "</table>\n",
       "</div>"
      ],
      "text/plain": [
       "   area_harvested  production\n",
       "0          143300     8099000\n",
       "1          133800     8767000\n",
       "2          128600     6889000\n",
       "3           85800     4350000\n",
       "4           88800     4222000"
      ]
     },
     "execution_count": 7,
     "metadata": {},
     "output_type": "execute_result"
    }
   ],
   "source": [
    "soy = soy.drop(columns=['Unnamed: 0', 'county_code', 'county_name', 'state_ansi', 'state_name',\n",
    "       'state_alpha', 'commodity_desc', 'state_fips_code', 'year','area_planted','YIELD', 'total_acres',\n",
    "       'total_imdemnity', 'total_events', 'PCP', 'TAVG', 'PDSI', 'ZNDX',\n",
    "       'PMDI', 'TMIN', 'TMAX', 'Month'])\n",
    "soy.head()"
   ]
  },
  {
   "cell_type": "code",
   "execution_count": 9,
   "metadata": {},
   "outputs": [
    {
     "data": {
      "image/png": "[encoded data removed]",
      "text/plain": [
       "<Figure size 432x288 with 1 Axes>"
      ]
     },
     "metadata": {
      "needs_background": "light"
     },
     "output_type": "display_data"
    }
   ],
   "source": [
    "plt.scatter(soy.area_harvested, soy.production)\n",
    "plt.title('Area Harvested vs Production ')\n",
    "plt.ylabel('Production')\n",
    "plt.xlabel('Area Harvested')\n",
    "plt.show()"
   ]
  },
  {
   "cell_type": "code",
   "execution_count": 10,
   "metadata": {},
   "outputs": [
    {
     "data": {
      "text/plain": [
       "array([[143300],\n",
       "       [133800],\n",
       "       [128600],\n",
       "       [ 85800],\n",
       "       [ 88800]], dtype=int64)"
      ]
     },
     "execution_count": 10,
     "metadata": {},
     "output_type": "execute_result"
    }
   ],
   "source": [
    "X = soy.area_harvested.values.reshape(-1, 1)\n",
    "X[:5]"
   ]
  },
  {
   "cell_type": "code",
   "execution_count": 11,
   "metadata": {},
   "outputs": [
    {
     "data": {
      "text/plain": [
       "(482, 1)"
      ]
     },
     "execution_count": 11,
     "metadata": {},
     "output_type": "execute_result"
    }
   ],
   "source": [
    "# The shape of X is 482 samples, with a single feature (column)\n",
    "X.shape"
   ]
  },
  {
   "cell_type": "code",
   "execution_count": 12,
   "metadata": {},
   "outputs": [],
   "source": [
    "y = soy.production"
   ]
  },
  {
   "cell_type": "code",
   "execution_count": 13,
   "metadata": {},
   "outputs": [
    {
     "data": {
      "text/plain": [
       "LinearRegression(copy_X=True, fit_intercept=True, n_jobs=None, normalize=False)"
      ]
     },
     "execution_count": 13,
     "metadata": {},
     "output_type": "execute_result"
    }
   ],
   "source": [
    "# Create a model with scikit-learn\n",
    "model = LinearRegression()\n",
    "model"
   ]
  },
  {
   "cell_type": "code",
   "execution_count": 14,
   "metadata": {},
   "outputs": [
    {
     "data": {
      "text/plain": [
       "LinearRegression(copy_X=True, fit_intercept=True, n_jobs=None, normalize=False)"
      ]
     },
     "execution_count": 14,
     "metadata": {},
     "output_type": "execute_result"
    }
   ],
   "source": [
    "# Fit the data into the model\n",
    "# By convention, X is capitalized and y is lowercase\n",
    "model.fit(X, y)"
   ]
  },
  {
   "cell_type": "code",
   "execution_count": 15,
   "metadata": {},
   "outputs": [
    {
     "name": "stdout",
     "output_type": "stream",
     "text": [
      "[60.36964128]\n"
     ]
    }
   ],
   "source": [
    "# The slope\n",
    "print(model.coef_)"
   ]
  },
  {
   "cell_type": "code",
   "execution_count": 16,
   "metadata": {},
   "outputs": [
    {
     "name": "stdout",
     "output_type": "stream",
     "text": [
      "-395150.92684433237\n"
     ]
    }
   ],
   "source": [
    "# The y-intercept\n",
    "print(model.intercept_)"
   ]
  },
  {
   "cell_type": "code",
   "execution_count": 17,
   "metadata": {},
   "outputs": [],
   "source": [
    "# The model creates predicted y values based on X values\n",
    "predicted_y_values = model.predict(X)"
   ]
  },
  {
   "cell_type": "code",
   "execution_count": null,
   "metadata": {},
   "outputs": [],
   "source": []
  },
  {
   "cell_type": "code",
   "execution_count": null,
   "metadata": {},
   "outputs": [],
   "source": []
  },
  {
   "cell_type": "code",
   "execution_count": 6,
   "metadata": {},
   "outputs": [
    {
     "data": {
      "text/html": [
       "<div>\n",
       "<style scoped>\n",
       "    .dataframe tbody tr th:only-of-type {\n",
       "        vertical-align: middle;\n",
       "    }\n",
       "\n",
       "    .dataframe tbody tr th {\n",
       "        vertical-align: top;\n",
       "    }\n",
       "\n",
       "    .dataframe thead th {\n",
       "        text-align: right;\n",
       "    }\n",
       "</style>\n",
       "<table border=\"1\" class=\"dataframe\">\n",
       "  <thead>\n",
       "    <tr style=\"text-align: right;\">\n",
       "      <th></th>\n",
       "      <th>production</th>\n",
       "    </tr>\n",
       "    <tr>\n",
       "      <th>area_harvested</th>\n",
       "      <th></th>\n",
       "    </tr>\n",
       "  </thead>\n",
       "  <tbody>\n",
       "    <tr>\n",
       "      <th>27000</th>\n",
       "      <td>1326000</td>\n",
       "    </tr>\n",
       "    <tr>\n",
       "      <th>27900</th>\n",
       "      <td>1420000</td>\n",
       "    </tr>\n",
       "    <tr>\n",
       "      <th>28900</th>\n",
       "      <td>1473000</td>\n",
       "    </tr>\n",
       "    <tr>\n",
       "      <th>30400</th>\n",
       "      <td>1539000</td>\n",
       "    </tr>\n",
       "    <tr>\n",
       "      <th>30500</th>\n",
       "      <td>1565000</td>\n",
       "    </tr>\n",
       "  </tbody>\n",
       "</table>\n",
       "</div>"
      ],
      "text/plain": [
       "                production\n",
       "area_harvested            \n",
       "27000              1326000\n",
       "27900              1420000\n",
       "28900              1473000\n",
       "30400              1539000\n",
       "30500              1565000"
      ]
     },
     "execution_count": 6,
     "metadata": {},
     "output_type": "execute_result"
    }
   ],
   "source": [
    "sort=soy.set_index('area_harvested').sort_index()\n",
    "sort.head()"
   ]
  },
  {
   "cell_type": "code",
   "execution_count": null,
   "metadata": {},
   "outputs": [],
   "source": []
  }
 ],
 "metadata": {
  "kernelspec": {
   "display_name": "Python 3",
   "language": "python",
   "name": "python3"
  },
  "language_info": {
   "codemirror_mode": {
    "name": "ipython",
    "version": 3
   },
   "file_extension": ".py",
   "mimetype": "text/x-python",
   "name": "python",
   "nbconvert_exporter": "python",
   "pygments_lexer": "ipython3",
   "version": "3.7.3"
  }
 },
 "nbformat": 4,
 "nbformat_minor": 4
}
